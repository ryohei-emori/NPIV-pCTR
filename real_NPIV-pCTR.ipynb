{
 "cells": [
  {
   "cell_type": "markdown",
   "id": "018ffc3d-445e-407b-8826-12c52830035b",
   "metadata": {},
   "source": [
    "The original data and related data preprocessing cannot be disclosed due to corporate secrecy compliance.\n",
    "\n",
    "However, the network structure of the model is open.\n",
    "In the code, \n",
    "* the data features are preprocessed by the function FeaturePreprocessing() before being passed to the input layer of the network.\n",
    "* The dataset, named dataset, is input during model estimation.\n",
    "* Bid amounts were used in our analysis under the column name, adjuster_bid."
   ]
  },
  {
   "cell_type": "markdown",
   "id": "bdfedf50-5466-4fb1-89ff-b10158592cde",
   "metadata": {
    "jp-MarkdownHeadingCollapsed": true,
    "tags": []
   },
   "source": [
    "### Naive model"
   ]
  },
  {
   "cell_type": "code",
   "execution_count": null,
   "id": "0654ac14-cc50-4626-b3df-97cdee38b25a",
   "metadata": {
    "tags": []
   },
   "outputs": [],
   "source": [
    "feature = FeaturePreprocessing()\n",
    "\n",
    "input_num = tf.keras.layers.Concatenate(axis=-1)(feature.inputs_numeric)\n",
    "input_cat = tf.keras.layers.Concatenate(axis=-1)(feature.inputs_categorical)\n",
    "input_num = tf.keras.layers.BatchNormalization()(input_num)\n",
    "input_net = tf.keras.layers.Concatenate(axis=-1)([input_num, input_cat])\n",
    "\n",
    "pCTR = tf.keras.layers.Dense(256, activation=\"swish\")(input_net)\n",
    "pCTR = tf.keras.layers.BatchNormalization()(pCTR)\n",
    "pCTR = tf.keras.layers.Dense(256, activation=\"relu\")(pCTR)\n",
    "pCTR = tf.keras.layers.BatchNormalization()(pCTR)\n",
    "pCTR = tf.keras.layers.Dense(256, activation=\"relu\")(pCTR)\n",
    "pCTR = tf.keras.layers.BatchNormalization()(pCTR)\n",
    "pCTR = tf.keras.layers.Dense(1, activation=\"sigmoid\", name=\"click\")(pCTR)\n",
    "pCTR = tf.keras.Model(inputs=feature.inputs, outputs=pCTR)\n",
    "\n",
    "dummy = tf.keras.layers.Lambda(lambda x: x[:, 0:1] * 0, name=\"dummy\")(input_net)\n",
    "dummy = tf.keras.Model(inputs=feature.inputs, outputs=dummy)\n",
    "\n",
    "model = tf.keras.Model(\n",
    "    inputs=feature.inputs, outputs=[pCTR.output,dummy.output,dummy.output, dummy.output]\n",
    ")\n",
    "model.compile(\n",
    "    optimizer=tf.keras.optimizers.Adamax(learning_rate=0.001),\n",
    "    loss=[\"binary_crossentropy\",None,None,None]\n",
    ")"
   ]
  },
  {
   "cell_type": "code",
   "execution_count": null,
   "id": "24b86040-651a-459a-b785-58ca738c9afb",
   "metadata": {},
   "outputs": [],
   "source": [
    "cp_callback = tf.keras.callbacks.ModelCheckpoint(\n",
    "    filepath=\"\",\n",
    "    save_best_only=True,\n",
    "    verbose=1,\n",
    "    monitor=\"loss\"\n",
    ")\n",
    "\n",
    "model.fit(dataset, epochs=15, steps_per_epoch=1000, callbacks=[cp_callback])"
   ]
  },
  {
   "cell_type": "markdown",
   "id": "86d9da8d-ba31-49bd-93a4-67fce2a26a2d",
   "metadata": {
    "jp-MarkdownHeadingCollapsed": true,
    "tags": []
   },
   "source": [
    "### IPS Estimator"
   ]
  },
  {
   "cell_type": "code",
   "execution_count": null,
   "id": "5e15c1db-af85-4405-8171-7a9cd07bcead",
   "metadata": {
    "tags": []
   },
   "outputs": [],
   "source": [
    "### pIMP\n",
    "feature = FeaturePreprocessing()\n",
    "feature.inputs_iv = feature.inputs_iv | feature.inputs\n",
    "feature.inputs_numeric_iv += feature.inputs_numeric\n",
    "\n",
    "input_num = tf.keras.layers.Concatenate(axis=-1)(feature.inputs_numeric)\n",
    "input_cat = tf.keras.layers.Concatenate(axis=-1)(feature.inputs_categorical)\n",
    "input_num = tf.keras.layers.BatchNormalization()(input_num)\n",
    "input_net = tf.keras.layers.Concatenate(axis=-1)([input_num, input_cat])\n",
    "\n",
    "input_num_iv = tf.keras.layers.Concatenate(axis=-1)(feature.inputs_numeric_iv)\n",
    "input_num_iv = tf.keras.layers.BatchNormalization()(input_num_iv)\n",
    "input_net_iv = tf.keras.layers.Concatenate(axis=-1)([input_num_iv, input_net])\n",
    "\n",
    "pIMP_iv = tf.keras.layers.Dense(128, activation=\"swish\")(input_net_iv)\n",
    "pIMP_iv = tf.keras.layers.BatchNormalization()(pIMP_iv)\n",
    "pIMP_iv = tf.keras.layers.Dense(1, activation=\"sigmoid\", name=\"impression_iv\")(pIMP_iv)\n",
    "pIMP_iv = tf.keras.Model(inputs=feature.inputs_iv, outputs=pIMP_iv)\n",
    "\n",
    "dummy_output = tf.keras.layers.Lambda(lambda x: x[:, 0:1] * 0, name=\"dummy\")(input_net_iv)\n",
    "dummy_output = tf.keras.Model(inputs=feature.inputs_iv, outputs=dummy_output)\n",
    "\n",
    "model = tf.keras.Model(\n",
    "    inputs=feature.inputs_iv, outputs=[dummy_output.output, pIMP_iv.output, dummy_output.output, dummy_output.output]\n",
    ")\n",
    "model.compile(\n",
    "    optimizer=tf.keras.optimizers.Adamax(learning_rate=0.001),\n",
    "    loss=[None, \"binary_crossentropy\",None, None],\n",
    ")"
   ]
  },
  {
   "cell_type": "code",
   "execution_count": null,
   "id": "fd775603-a812-4b4a-8d38-3ed840f69cc0",
   "metadata": {
    "tags": []
   },
   "outputs": [],
   "source": [
    "cp_callback = tf.keras.callbacks.ModelCheckpoint(\n",
    "    filepath=\"\",\n",
    "    save_best_only=True,\n",
    "    verbose=1,\n",
    "    monitor=\"loss\"\n",
    ")\n",
    "\n",
    "model.fit(dataset, epochs=15, steps_per_epoch=1000, callbacks=[cp_callback])"
   ]
  },
  {
   "cell_type": "code",
   "execution_count": null,
   "id": "2a055bb1-7a4c-4419-82f0-2173803cfa3d",
   "metadata": {
    "tags": []
   },
   "outputs": [],
   "source": [
    "### IPS-pCTR\n",
    "feature = FeaturePreprocessing()\n",
    "\n",
    "input_num = tf.keras.layers.Concatenate(axis=-1)(feature.inputs_numeric)\n",
    "input_cat = tf.keras.layers.Concatenate(axis=-1)(feature.inputs_categorical)\n",
    "input_num = tf.keras.layers.BatchNormalization()(input_num)\n",
    "input_net = tf.keras.layers.Concatenate(axis=-1)([input_num, input_cat])\n",
    "\n",
    "pCTR = tf.keras.layers.Dense(256, activation=\"swish\")(input_net)\n",
    "pCTR = tf.keras.layers.BatchNormalization()(pCTR)\n",
    "pCTR = tf.keras.layers.Dense(256, activation=\"relu\")(pCTR)\n",
    "pCTR = tf.keras.layers.BatchNormalization()(pCTR)\n",
    "pCTR = tf.keras.layers.Dense(256, activation=\"relu\")(pCTR)\n",
    "pCTR = tf.keras.layers.BatchNormalization()(pCTR)\n",
    "pCTR = tf.keras.layers.Dense(1, activation=\"sigmoid\", name=\"click\")(pCTR)\n",
    "pCTR = tf.keras.Model(inputs=feature.inputs, outputs=pCTR)\n",
    "\n",
    "model = tf.keras.Model(\n",
    "    inputs=feature.inputs, outputs=pCTR.output,\n",
    ")\n",
    "model.compile(\n",
    "    optimizer=tf.keras.optimizers.Adamax(learning_rate=0.001),\n",
    "    loss=[\"binary_crossentropy\",None,None,None]\n",
    ")"
   ]
  },
  {
   "cell_type": "code",
   "execution_count": null,
   "id": "5228df56-1aa0-4f2b-bbb5-2a65048b545c",
   "metadata": {
    "tags": []
   },
   "outputs": [],
   "source": [
    "ipsimp_model = tf.keras.models.load_model(\"\")\n",
    "features, y, w = next(iter(dataset))\n",
    "pimp = ipsimp_model.predict(features, batch_size=200000, verbose=1)"
   ]
  },
  {
   "cell_type": "code",
   "execution_count": null,
   "id": "e3326f2f-ec0f-4f8b-8493-51d807d88bf4",
   "metadata": {
    "tags": []
   },
   "outputs": [],
   "source": [
    "cp_callback = tf.keras.callbacks.ModelCheckpoint(\n",
    "    filepath=\"\",\n",
    "    save_best_only=True,\n",
    "    verbose=1,\n",
    "    monitor=\"loss\"\n",
    ")\n",
    "\n",
    "model.fit(x=features, y=y[0], sample_weight=pimp[1], epochs=15, steps_per_epoch=1000, callbacks=[cp_callback])"
   ]
  },
  {
   "cell_type": "markdown",
   "id": "1e3947e7-fd05-443c-8673-8288bfb8f2ca",
   "metadata": {
    "jp-MarkdownHeadingCollapsed": true,
    "tags": []
   },
   "source": [
    "### baseline-IV"
   ]
  },
  {
   "cell_type": "code",
   "execution_count": null,
   "id": "af2b9ae0-c90a-4696-9d0c-127972e07369",
   "metadata": {
    "tags": []
   },
   "outputs": [],
   "source": [
    "feature = FeaturePreprocessing()\n",
    "feature.inputs_iv = feature.inputs_iv | feature.inputs\n",
    "feature.inputs_numeric_iv += feature.inputs_numeric\n",
    "\n",
    "input_num = tf.keras.layers.Concatenate(axis=-1)(feature.inputs_numeric)\n",
    "input_cat = tf.keras.layers.Concatenate(axis=-1)(feature.inputs_categorical)\n",
    "input_num = tf.keras.layers.BatchNormalization()(input_num)\n",
    "input_net = tf.keras.layers.Concatenate(axis=-1)([input_num, input_cat])\n",
    "\n",
    "input_num_iv = tf.keras.layers.Concatenate(axis=-1)(feature.inputs_numeric_iv)\n",
    "input_num_iv = tf.keras.layers.BatchNormalization()(input_num_iv)\n",
    "input_net_iv = tf.keras.layers.Concatenate(axis=-1)([input_num_iv, input_net])\n",
    "\n",
    "pIMP_iv = tf.keras.layers.Dense(128, activation=\"swish\")(input_net_iv)\n",
    "pIMP_iv = tf.keras.layers.BatchNormalization()(pIMP_iv)\n",
    "pIMP_iv = tf.keras.layers.Dense(1, activation=\"sigmoid\", name=\"impression_iv\")(pIMP_iv)\n",
    "pIMP_iv = tf.keras.Model(inputs=feature.inputs_iv, outputs=pIMP_iv)\n",
    "\n",
    "input_net = tf.keras.layers.Concatenate(axis=-1)([input_net, pIMP_iv.output])\n",
    "pCTR = tf.keras.layers.Dense(256, activation=\"swish\")(input_net)\n",
    "pCTR = tf.keras.layers.BatchNormalization()(pCTR)\n",
    "pCTR = tf.keras.layers.Dense(256, activation=\"relu\")(pCTR)\n",
    "pCTR = tf.keras.layers.BatchNormalization()(pCTR)\n",
    "pCTR = tf.keras.layers.Dense(256, activation=\"relu\")(pCTR)\n",
    "pCTR = tf.keras.layers.BatchNormalization()(pCTR)\n",
    "pCTR = tf.keras.layers.Dense(1, activation=\"sigmoid\", name=\"click\")(pCTR)\n",
    "pCTR = tf.keras.Model(inputs=feature.inputs_iv, outputs=pCTR)\n",
    "\n",
    "dummy_output = tf.keras.layers.Lambda(lambda x: x[:, 0:1] * 0, name=\"dummy\")(input_net_iv)\n",
    "dummy_output = tf.keras.Model(inputs=feature.inputs_iv, outputs=dummy_output)\n",
    "\n",
    "model = tf.keras.Model(\n",
    "    inputs=feature.inputs_iv, outputs=[pCTR.output, pIMP_iv.output, dummy_output.output, dummy_output.output]\n",
    ")\n",
    "model.compile(\n",
    "    optimizer=tf.keras.optimizers.Adamax(learning_rate=0.001),\n",
    "    loss=[\"binary_crossentropy\",\"binary_crossentropy\",None,None]\n",
    ")"
   ]
  },
  {
   "cell_type": "code",
   "execution_count": null,
   "id": "3e9e49f3-9846-4a46-8ea7-90f006ab1c46",
   "metadata": {
    "tags": []
   },
   "outputs": [],
   "source": [
    "cp_callback = tf.keras.callbacks.ModelCheckpoint(\n",
    "    filepath=\"\",\n",
    "    save_best_only=True,\n",
    "    verbose=1,\n",
    "    monitor=\"loss\"\n",
    ")\n",
    "\n",
    "model.fit(dataset, epochs=15, steps_per_epoch=1000, callbacks=[cp_callback])"
   ]
  },
  {
   "cell_type": "markdown",
   "id": "ae435609-a8b6-4861-bb2d-b7fbfd6cc45a",
   "metadata": {
    "jp-MarkdownHeadingCollapsed": true,
    "tags": []
   },
   "source": [
    "### afs-iv: First stage pIMP with an addtional layer"
   ]
  },
  {
   "cell_type": "code",
   "execution_count": null,
   "id": "46a317c0-7c6d-4acf-9acb-7e2f52dba3e8",
   "metadata": {
    "tags": []
   },
   "outputs": [],
   "source": [
    "feature = FeaturePreprocessing()\n",
    "feature.inputs_iv = feature.inputs_iv | feature.inputs\n",
    "feature.inputs_numeric_iv += feature.inputs_numeric\n",
    "\n",
    "input_num = tf.keras.layers.Concatenate(axis=-1)(feature.inputs_numeric)\n",
    "input_cat = tf.keras.layers.Concatenate(axis=-1)(feature.inputs_categorical)\n",
    "input_num = tf.keras.layers.BatchNormalization()(input_num)\n",
    "input_net = tf.keras.layers.Concatenate(axis=-1)([input_num, input_cat])\n",
    "\n",
    "input_num_iv = tf.keras.layers.Concatenate(axis=-1)(feature.inputs_numeric_iv)\n",
    "input_num_iv = tf.keras.layers.BatchNormalization()(input_num_iv)\n",
    "input_net_iv = tf.keras.layers.Concatenate(axis=-1)([input_num_iv, input_net])\n",
    "\n",
    "pIMP_iv = tf.keras.layers.Dense(256, activation=\"swish\")(input_net_iv)\n",
    "pIMP_iv = tf.keras.layers.BatchNormalization()(pIMP_iv)\n",
    "pIMP_iv = tf.keras.layers.Dense(128, activation=\"swish\")(pIMP_iv)\n",
    "pIMP_iv = tf.keras.layers.BatchNormalization()(pIMP_iv)\n",
    "pIMP_iv = tf.keras.layers.Dense(1, activation=\"sigmoid\", name=\"impression_iv\")(pIMP_iv)\n",
    "pIMP_iv = tf.keras.Model(inputs=feature.inputs_iv, outputs=pIMP_iv)\n",
    "\n",
    "input_net = tf.keras.layers.Concatenate(axis=-1)([input_net, pIMP_iv.output])\n",
    "pCTR = tf.keras.layers.Dense(256, activation=\"swish\")(input_net)\n",
    "pCTR = tf.keras.layers.BatchNormalization()(pCTR)\n",
    "pCTR = tf.keras.layers.Dense(256, activation=\"relu\")(pCTR)\n",
    "pCTR = tf.keras.layers.BatchNormalization()(pCTR)\n",
    "pCTR = tf.keras.layers.Dense(256, activation=\"relu\")(pCTR)\n",
    "pCTR = tf.keras.layers.BatchNormalization()(pCTR)\n",
    "pCTR = tf.keras.layers.Dense(1, activation=\"sigmoid\", name=\"click\")(pCTR)\n",
    "pCTR = tf.keras.Model(inputs=feature.inputs_iv, outputs=pCTR)\n",
    "\n",
    "dummy = tf.keras.layers.Lambda(lambda x: x[:, 0:1] * 0, name=\"dummy\")(input_net_bias)\n",
    "dummy = tf.keras.Model(inputs=feature.inputs, outputs=dummy)\n",
    "\n",
    "model = tf.keras.Model(\n",
    "    inputs=feature.inputs_iv, outputs=[pCTR.output, pIMP_iv.output, dummy.output,dummy.output]\n",
    ")\n",
    "model.compile(\n",
    "    optimizer=tf.keras.optimizers.Adamax(learning_rate=0.001),\n",
    "    loss=[\"binary_crossentropy\",\"binary_crossentropy\", None,None],\n",
    ")"
   ]
  },
  {
   "cell_type": "code",
   "execution_count": null,
   "id": "0b37ef51-ce0d-4781-a12f-cfaeb7dc483a",
   "metadata": {
    "tags": []
   },
   "outputs": [],
   "source": [
    "cp_callback = tf.keras.callbacks.ModelCheckpoint(\n",
    "    filepath=\"\",\n",
    "    save_best_only=True,\n",
    "    verbose=1,\n",
    "    monitor=\"loss\"\n",
    ")\n",
    "\n",
    "model.fit(dataset, epochs=15, steps_per_epoch=1000, callbacks=[cp_callback])"
   ]
  },
  {
   "cell_type": "markdown",
   "id": "acce072f-b6b2-4a5d-8c58-095f6be8f37a",
   "metadata": {
    "jp-MarkdownHeadingCollapsed": true,
    "tags": []
   },
   "source": [
    "### iv-fsatt: Explicitly Incorpolating First stage IVs interactions using Attention Networks"
   ]
  },
  {
   "cell_type": "code",
   "execution_count": null,
   "id": "31640fe2-0fc5-4d38-81df-d267eee50063",
   "metadata": {
    "tags": []
   },
   "outputs": [],
   "source": [
    "feature = FeaturePreprocessing()\n",
    "all_inputs_iv = feature.inputs_iv | feature.inputs\n",
    "\n",
    "input_num = tf.keras.layers.Concatenate(axis=-1)(feature.inputs_numeric)\n",
    "input_num = tf.keras.layers.BatchNormalization()(input_num)\n",
    "input_cat = tf.keras.layers.Concatenate(axis=-1)(feature.inputs_categorical)\n",
    "input_net = tf.keras.layers.Concatenate(axis=-1)([input_num, input_cat])\n",
    "\n",
    "# Attention network\n",
    "query_iv = tf.keras.layers.BatchNormalization()(feature.inputs_iv[\"adjusted_bid\"])\n",
    "key = input_net\n",
    "query_iv_tiled = tf.tile(query_iv, [1, 297])\n",
    "att_iv = tf.keras.layers.Multiply()([query_iv_tiled, key])\n",
    "W = tf.keras.layers.Dense(297)\n",
    "att_iv = W(att_iv)\n",
    "att_iv = tf.keras.layers.Activation('softmax')(att_iv)\n",
    "context_iv = tf.keras.layers.Multiply()([att_iv, input_net])\n",
    "context_input = tf.keras.layers.Concatenate(axis=-1)([input_net, context_iv])\n",
    "\n",
    "pIMP_iv = tf.keras.layers.Dense(128, activation=\"swish\")(context_input)\n",
    "pIMP_iv = tf.keras.layers.BatchNormalization()(pIMP_iv)\n",
    "pIMP_iv = tf.keras.layers.Dense(1, activation=\"sigmoid\", name=\"impression_iv\")(pIMP_iv)\n",
    "pIMP_iv = tf.keras.Model(inputs=all_inputs_iv, outputs=pIMP_iv)\n",
    "\n",
    "\n",
    "input_net = tf.keras.layers.Concatenate(axis=-1)([input_net, pIMP_iv.output])\n",
    "pCTR = tf.keras.layers.Dense(256, activation=\"swish\")(input_net)\n",
    "pCTR = tf.keras.layers.BatchNormalization()(pCTR)\n",
    "pCTR = tf.keras.layers.Dense(256, activation=\"relu\")(pCTR)\n",
    "pCTR = tf.keras.layers.BatchNormalization()(pCTR)\n",
    "pCTR = tf.keras.layers.Dense(256, activation=\"relu\")(pCTR)\n",
    "pCTR = tf.keras.layers.BatchNormalization()(pCTR)\n",
    "pCTR = tf.keras.layers.Dense(1, activation=\"sigmoid\", name=\"click\")(pCTR)\n",
    "pCTR = tf.keras.Model(inputs=all_inputs_iv, outputs=pCTR)\n",
    "\n",
    "dummy_output = tf.keras.layers.Lambda(lambda x: x[:, 0:1] * 0, name=\"dummy\")(input_net)\n",
    "dummy_output = tf.keras.Model(inputs=all_inputs_iv, outputs=dummy_output)\n",
    "\n",
    "model = tf.keras.Model(\n",
    "    inputs=all_inputs_iv, outputs=[pCTR.output, pIMP_iv.output, dummy_output.output, dummy_output.output]\n",
    ")\n",
    "model.compile(\n",
    "    optimizer=tf.keras.optimizers.Adamax(learning_rate=0.001),\n",
    "    loss=[\"binary_crossentropy\",\"binary_crossentropy\", None, None]\n",
    ")"
   ]
  },
  {
   "cell_type": "code",
   "execution_count": null,
   "id": "e7c32f42-975d-41c0-a5bb-705e43025beb",
   "metadata": {
    "tags": []
   },
   "outputs": [],
   "source": [
    "cp_callback = tf.keras.callbacks.ModelCheckpoint(\n",
    "    filepath=\"\",\n",
    "    save_best_only=True,\n",
    "    verbose=1,\n",
    "    monitor=\"click_loss\",\n",
    ")\n",
    "\n",
    "model.fit(dataset, epochs=15, steps_per_epoch=1000, callbacks=[cp_callback])"
   ]
  },
  {
   "cell_type": "markdown",
   "id": "e929f4d5-3a86-4c20-8999-7037dc1b50e6",
   "metadata": {
    "jp-MarkdownHeadingCollapsed": true,
    "tags": []
   },
   "source": [
    "### iv-ssfsatt: Explicitly Incorporating Interactions in First Stage and Second Stage with Attention network"
   ]
  },
  {
   "cell_type": "code",
   "execution_count": null,
   "id": "8d44f91f-af0d-4e7f-a80e-d0ff53df585c",
   "metadata": {
    "tags": []
   },
   "outputs": [],
   "source": [
    "feature = FeaturePreprocessing()\n",
    "all_inputs_iv = feature.inputs_iv | feature.inputs\n",
    "\n",
    "input_num = tf.keras.layers.Concatenate(axis=-1)(feature.inputs_numeric)\n",
    "input_num = tf.keras.layers.BatchNormalization()(input_num)\n",
    "input_cat = tf.keras.layers.Concatenate(axis=-1)(feature.inputs_categorical)\n",
    "input_net = tf.keras.layers.Concatenate(axis=-1)([input_num, input_cat])\n",
    "\n",
    "# First Stage Attention network\n",
    "query_iv = tf.keras.layers.BatchNormalization()(feature.inputs_iv[\"adjusted_bid\"])\n",
    "key = input_net\n",
    "query_iv_tiled = tf.tile(query_iv, [1, 297])\n",
    "att_iv = tf.keras.layers.Multiply()([query_iv_tiled, key])\n",
    "W = tf.keras.layers.Dense(297, activation=\"swish\")\n",
    "att_iv = W(att_iv)\n",
    "att_iv = tf.keras.layers.Activation('softmax')(att_iv)\n",
    "context_input = tf.keras.layers.Multiply()([att_iv, input_net])\n",
    "context_input = tf.keras.layers.Concatenate(axis=-1)([input_net, context_input])\n",
    "\n",
    "pIMP_iv = tf.keras.layers.Dense(128, activation=\"swish\")(context_input) #add\n",
    "pIMP_iv = tf.keras.layers.BatchNormalization()(pIMP_iv)\n",
    "pIMP_iv = tf.keras.layers.Dense(128, activation=\"swish\")(pIMP_iv)\n",
    "pIMP_iv = tf.keras.layers.BatchNormalization()(pIMP_iv)\n",
    "pIMP_iv = tf.keras.layers.Dense(1, activation=\"sigmoid\", name=\"impression_iv\")(pIMP_iv)\n",
    "pIMP_iv = tf.keras.Model(inputs=all_inputs_iv, outputs=pIMP_iv)\n",
    "\n",
    "# Second Stage Attention network\n",
    "query_imp = pIMP_iv.output\n",
    "key_imp = input_net\n",
    "query_imp = tf.tile(query_imp, [1, 297])\n",
    "att_imp = tf.keras.layers.Multiply()([query_imp, key_imp])\n",
    "W_imp = tf.keras.layers.Dense(297, activation=\"swish\")\n",
    "att_imp = W_imp(att_imp)\n",
    "att_imp = tf.keras.layers.Activation('softmax')(att_imp)\n",
    "context_imp = tf.keras.layers.Multiply()([att_imp, input_net])\n",
    "\n",
    "pCTR = tf.keras.layers.Dense(256, activation=\"swish\")(context_imp)\n",
    "pCTR = tf.keras.layers.BatchNormalization()(pCTR)\n",
    "pCTR = tf.keras.layers.Dense(256, activation=\"relu\")(pCTR)\n",
    "pCTR = tf.keras.layers.BatchNormalization()(pCTR)\n",
    "pCTR = tf.keras.layers.Dense(256, activation=\"relu\")(pCTR)\n",
    "pCTR = tf.keras.layers.BatchNormalization()(pCTR)\n",
    "pCTR = tf.keras.layers.Dense(1, activation=\"sigmoid\", name=\"click\")(pCTR)\n",
    "pCTR = tf.keras.Model(inputs=all_inputs_iv, outputs=pCTR)\n",
    "\n",
    "dummy_output = tf.keras.layers.Lambda(lambda x: x[:, 0:1] * 0, name=\"dummy\")(input_net)\n",
    "dummy_output = tf.keras.Model(inputs=all_inputs_iv, outputs=dummy_output)\n",
    "\n",
    "model = tf.keras.Model(\n",
    "    inputs=all_inputs_iv, outputs=[pCTR.output, pIMP_iv.output, dummy_output.output, dummy_output.output]\n",
    ")\n",
    "model.compile(\n",
    "    optimizer=tf.keras.optimizers.Adamax(learning_rate=0.001),\n",
    "    loss=[\"binary_crossentropy\",\"binary_crossentropy\", None, None],\n",
    ")"
   ]
  },
  {
   "cell_type": "code",
   "execution_count": null,
   "id": "00eac161-897a-4c58-bf3c-efcc01a76ad6",
   "metadata": {
    "tags": []
   },
   "outputs": [],
   "source": [
    "cp_callback = tf.keras.callbacks.ModelCheckpoint(\n",
    "    filepath=\"\",\n",
    "    save_best_only=True,\n",
    "    verbose=1,\n",
    "    monitor=\"click_loss\"\n",
    ")\n",
    "\n",
    "model.fit(dataset, epochs=15, steps_per_epoch=1000, callbacks=[cp_callback])"
   ]
  }
 ],
 "metadata": {
  "kernelspec": {
   "display_name": "Python 3.9.6 64-bit",
   "language": "python",
   "name": "python3"
  },
  "language_info": {
   "codemirror_mode": {
    "name": "ipython",
    "version": 3
   },
   "file_extension": ".py",
   "mimetype": "text/x-python",
   "name": "python",
   "nbconvert_exporter": "python",
   "pygments_lexer": "ipython3",
   "version": "3.9.6"
  },
  "vscode": {
   "interpreter": {
    "hash": "31f2aee4e71d21fbe5cf8b01ff0e069b9275f58929596ceb00d14d90e3e16cd6"
   }
  }
 },
 "nbformat": 4,
 "nbformat_minor": 5
}
